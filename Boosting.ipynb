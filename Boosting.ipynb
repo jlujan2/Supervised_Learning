{
 "cells": [
  {
   "cell_type": "code",
   "execution_count": 75,
   "metadata": {},
   "outputs": [],
   "source": [
    "from sklearn.ensemble import AdaBoostClassifier\n",
    "\n",
    "from sklearn.preprocessing import LabelEncoder\n",
    "from sklearn.tree import DecisionTreeClassifier\n",
    "import pandas as pd\n",
    "from sklearn.model_selection import train_test_split\n",
    "from sklearn import metrics\n",
    "from sklearn import preprocessing\n",
    "import time"
   ]
  },
  {
   "cell_type": "code",
   "execution_count": 76,
   "metadata": {},
   "outputs": [
    {
     "data": {
      "text/html": [
       "<div>\n",
       "<style scoped>\n",
       "    .dataframe tbody tr th:only-of-type {\n",
       "        vertical-align: middle;\n",
       "    }\n",
       "\n",
       "    .dataframe tbody tr th {\n",
       "        vertical-align: top;\n",
       "    }\n",
       "\n",
       "    .dataframe thead th {\n",
       "        text-align: right;\n",
       "    }\n",
       "</style>\n",
       "<table border=\"1\" class=\"dataframe\">\n",
       "  <thead>\n",
       "    <tr style=\"text-align: right;\">\n",
       "      <th></th>\n",
       "      <th>type</th>\n",
       "      <th>fixed acidity</th>\n",
       "      <th>volatile acidity</th>\n",
       "      <th>citric acid</th>\n",
       "      <th>residual sugar</th>\n",
       "      <th>chlorides</th>\n",
       "      <th>free sulfur dioxide</th>\n",
       "      <th>total sulfur dioxide</th>\n",
       "      <th>density</th>\n",
       "      <th>pH</th>\n",
       "      <th>sulphates</th>\n",
       "      <th>alcohol</th>\n",
       "      <th>quality</th>\n",
       "    </tr>\n",
       "  </thead>\n",
       "  <tbody>\n",
       "    <tr>\n",
       "      <th>0</th>\n",
       "      <td>white</td>\n",
       "      <td>7.0</td>\n",
       "      <td>0.27</td>\n",
       "      <td>0.36</td>\n",
       "      <td>20.7</td>\n",
       "      <td>0.045</td>\n",
       "      <td>45.0</td>\n",
       "      <td>170.0</td>\n",
       "      <td>1.0010</td>\n",
       "      <td>3.00</td>\n",
       "      <td>0.45</td>\n",
       "      <td>8.8</td>\n",
       "      <td>6</td>\n",
       "    </tr>\n",
       "    <tr>\n",
       "      <th>1</th>\n",
       "      <td>white</td>\n",
       "      <td>6.3</td>\n",
       "      <td>0.30</td>\n",
       "      <td>0.34</td>\n",
       "      <td>1.6</td>\n",
       "      <td>0.049</td>\n",
       "      <td>14.0</td>\n",
       "      <td>132.0</td>\n",
       "      <td>0.9940</td>\n",
       "      <td>3.30</td>\n",
       "      <td>0.49</td>\n",
       "      <td>9.5</td>\n",
       "      <td>6</td>\n",
       "    </tr>\n",
       "    <tr>\n",
       "      <th>2</th>\n",
       "      <td>white</td>\n",
       "      <td>8.1</td>\n",
       "      <td>0.28</td>\n",
       "      <td>0.40</td>\n",
       "      <td>6.9</td>\n",
       "      <td>0.050</td>\n",
       "      <td>30.0</td>\n",
       "      <td>97.0</td>\n",
       "      <td>0.9951</td>\n",
       "      <td>3.26</td>\n",
       "      <td>0.44</td>\n",
       "      <td>10.1</td>\n",
       "      <td>6</td>\n",
       "    </tr>\n",
       "    <tr>\n",
       "      <th>3</th>\n",
       "      <td>white</td>\n",
       "      <td>7.2</td>\n",
       "      <td>0.23</td>\n",
       "      <td>0.32</td>\n",
       "      <td>8.5</td>\n",
       "      <td>0.058</td>\n",
       "      <td>47.0</td>\n",
       "      <td>186.0</td>\n",
       "      <td>0.9956</td>\n",
       "      <td>3.19</td>\n",
       "      <td>0.40</td>\n",
       "      <td>9.9</td>\n",
       "      <td>6</td>\n",
       "    </tr>\n",
       "    <tr>\n",
       "      <th>4</th>\n",
       "      <td>white</td>\n",
       "      <td>7.2</td>\n",
       "      <td>0.23</td>\n",
       "      <td>0.32</td>\n",
       "      <td>8.5</td>\n",
       "      <td>0.058</td>\n",
       "      <td>47.0</td>\n",
       "      <td>186.0</td>\n",
       "      <td>0.9956</td>\n",
       "      <td>3.19</td>\n",
       "      <td>0.40</td>\n",
       "      <td>9.9</td>\n",
       "      <td>6</td>\n",
       "    </tr>\n",
       "  </tbody>\n",
       "</table>\n",
       "</div>"
      ],
      "text/plain": [
       "    type  fixed acidity  volatile acidity  citric acid  residual sugar  \\\n",
       "0  white            7.0              0.27         0.36            20.7   \n",
       "1  white            6.3              0.30         0.34             1.6   \n",
       "2  white            8.1              0.28         0.40             6.9   \n",
       "3  white            7.2              0.23         0.32             8.5   \n",
       "4  white            7.2              0.23         0.32             8.5   \n",
       "\n",
       "   chlorides  free sulfur dioxide  total sulfur dioxide  density    pH  \\\n",
       "0      0.045                 45.0                 170.0   1.0010  3.00   \n",
       "1      0.049                 14.0                 132.0   0.9940  3.30   \n",
       "2      0.050                 30.0                  97.0   0.9951  3.26   \n",
       "3      0.058                 47.0                 186.0   0.9956  3.19   \n",
       "4      0.058                 47.0                 186.0   0.9956  3.19   \n",
       "\n",
       "   sulphates  alcohol  quality  \n",
       "0       0.45      8.8        6  \n",
       "1       0.49      9.5        6  \n",
       "2       0.44     10.1        6  \n",
       "3       0.40      9.9        6  \n",
       "4       0.40      9.9        6  "
      ]
     },
     "execution_count": 76,
     "metadata": {},
     "output_type": "execute_result"
    }
   ],
   "source": [
    "data = pd.read_csv('C:/Users/Juan Carlos/Downloads/winequalityN.csv', sep=',', header=0)\n",
    "data.head()"
   ]
  },
  {
   "cell_type": "code",
   "execution_count": 77,
   "metadata": {},
   "outputs": [
    {
     "name": "stdout",
     "output_type": "stream",
     "text": [
      "Dataset:: \n"
     ]
    }
   ],
   "source": [
    "# Formatting and adding a new column\n",
    "print(\"Dataset:: \")\n",
    "data['great_wine'] = np.where(data['quality']>=8,1,0)\n",
    "data = data.drop('quality', axis='columns')\n",
    "\n",
    "le_type = LabelEncoder()\n",
    "\n",
    "data = data.dropna()\n",
    "data['type'] = le_type.fit_transform(data['type'])\n",
    "\n",
    "Label = preprocessing.LabelEncoder()\n",
    "\n",
    "X = data.values[: , 0:11]\n",
    "Y = data.values[: ,12]\n",
    "\n",
    "\n",
    "X_train, X_test, Y_train, Y_test = train_test_split(X, Y, test_size=0.3)\n",
    "start = time.time()\n",
    "model = DecisionTreeClassifier(criterion='entropy', max_depth=5,random_state = 50, min_samples_leaf=1)\n",
    "AdaBoost = AdaBoostClassifier(algorithm='SAMME', base_estimator=model, n_estimators=10, learning_rate=1)\n",
    "boostModel = AdaBoost.fit(X_train, Y_train)\n",
    "end = time.time()"
   ]
  },
  {
   "cell_type": "code",
   "execution_count": 78,
   "metadata": {},
   "outputs": [
    {
     "name": "stdout",
     "output_type": "stream",
     "text": [
      "The accuracy is:  96.4414646725116 %\n",
      "RunTime for 10 weak learners:  0.11099672317504883\n"
     ]
    }
   ],
   "source": [
    "y_pred = boostModel.predict(X_test)\n",
    "\n",
    "predictions = metrics.accuracy_score(Y_test, y_pred)\n",
    "\n",
    "print('The accuracy is: ', predictions*100, '%')\n",
    "print(\"RunTime for 10 weak learners: \", end-start)"
   ]
  },
  {
   "cell_type": "code",
   "execution_count": 79,
   "metadata": {},
   "outputs": [
    {
     "name": "stdout",
     "output_type": "stream",
     "text": [
      "The accuracy is:  97.26663228468283 %\n",
      "RunTime for 20 weak learners:  0.21301865577697754\n"
     ]
    }
   ],
   "source": [
    "start = time.time()\n",
    "model = DecisionTreeClassifier(criterion='entropy', max_depth=5,random_state = 50, min_samples_leaf=1)\n",
    "AdaBoost = AdaBoostClassifier(algorithm='SAMME', base_estimator=model, n_estimators=20, learning_rate=1)\n",
    "boostModel = AdaBoost.fit(X_train, Y_train)\n",
    "end = time.time()\n",
    "\n",
    "y_pred = boostModel.predict(X_test)\n",
    "\n",
    "predictions = metrics.accuracy_score(Y_test, y_pred)\n",
    "\n",
    "print('The accuracy is: ', predictions*100, '%')\n",
    "print(\"RunTime for 20 weak learners: \", end-start)"
   ]
  },
  {
   "cell_type": "code",
   "execution_count": 80,
   "metadata": {},
   "outputs": [
    {
     "name": "stdout",
     "output_type": "stream",
     "text": [
      "The accuracy is:  97.83393501805054 %\n",
      "RunTime for 100 weak learners:  1.0670032501220703\n"
     ]
    }
   ],
   "source": [
    "start = time.time()\n",
    "model = DecisionTreeClassifier(criterion='entropy', max_depth=5,random_state = 50, min_samples_leaf=1)\n",
    "AdaBoost = AdaBoostClassifier(algorithm='SAMME', base_estimator=model, n_estimators=100, learning_rate=1)\n",
    "boostModel = AdaBoost.fit(X_train, Y_train)\n",
    "end = time.time()\n",
    "\n",
    "y_pred = boostModel.predict(X_test)\n",
    "\n",
    "predictions = metrics.accuracy_score(Y_test, y_pred)\n",
    "\n",
    "print('The accuracy is: ', predictions*100, '%')\n",
    "print(\"RunTime for 100 weak learners: \", end-start)"
   ]
  },
  {
   "cell_type": "code",
   "execution_count": 72,
   "metadata": {},
   "outputs": [
    {
     "name": "stdout",
     "output_type": "stream",
     "text": [
      "Model: \"sequential_4\"\n",
      "_________________________________________________________________\n",
      "Layer (type)                 Output Shape              Param #   \n",
      "=================================================================\n",
      "dense_7 (Dense)              (None, 16)                192       \n",
      "_________________________________________________________________\n",
      "dropout_4 (Dropout)          (None, 16)                0         \n",
      "_________________________________________________________________\n",
      "dense_8 (Dense)              (None, 1)                 17        \n",
      "_________________________________________________________________\n",
      "activation_4 (Activation)    (None, 1)                 0         \n",
      "=================================================================\n",
      "Total params: 209\n",
      "Trainable params: 209\n",
      "Non-trainable params: 0\n",
      "_________________________________________________________________\n",
      "None\n"
     ]
    }
   ],
   "source": [
    "from keras.models import Sequential\n",
    "from keras.layers import Dense, Activation, Dropout\n",
    "\n",
    "model = Sequential()\n",
    "model.add(Dense(16, input_dim=11, activation='relu')) \n",
    "model.add(Dropout(0.2))\n",
    "model.add(Dense(1)) \n",
    "model.add(Activation('sigmoid'))  \n",
    "model.compile(loss='binary_crossentropy',\n",
    "              optimizer='adam',             #also try adam\n",
    "              metrics=['accuracy'])\n",
    "\n",
    "#model.compile(loss='mean_squared_error', optimizer='adam')\n",
    "print(model.summary())"
   ]
  },
  {
   "cell_type": "code",
   "execution_count": 73,
   "metadata": {},
   "outputs": [
    {
     "name": "stdout",
     "output_type": "stream",
     "text": [
      "Train on 4524 samples, validate on 1939 samples\n",
      "Epoch 1/50\n",
      "4524/4524 [==============================] - 0s 45us/step - loss: 2.5429 - accuracy: 0.8813 - val_loss: 1.1574 - val_accuracy: 0.9747\n",
      "Epoch 2/50\n",
      "4524/4524 [==============================] - 0s 17us/step - loss: 1.7601 - accuracy: 0.9335 - val_loss: 1.0280 - val_accuracy: 0.9747\n",
      "Epoch 3/50\n",
      "4524/4524 [==============================] - 0s 16us/step - loss: 1.5503 - accuracy: 0.9346 - val_loss: 0.8924 - val_accuracy: 0.9747\n",
      "Epoch 4/50\n",
      "4524/4524 [==============================] - 0s 15us/step - loss: 1.2957 - accuracy: 0.9361 - val_loss: 0.8572 - val_accuracy: 0.9747\n",
      "Epoch 5/50\n",
      "4524/4524 [==============================] - 0s 16us/step - loss: 1.2626 - accuracy: 0.9390 - val_loss: 0.7167 - val_accuracy: 0.9747\n",
      "Epoch 6/50\n",
      "4524/4524 [==============================] - 0s 15us/step - loss: 0.9705 - accuracy: 0.9341 - val_loss: 0.6033 - val_accuracy: 0.9747\n",
      "Epoch 7/50\n",
      "4524/4524 [==============================] - 0s 16us/step - loss: 0.8406 - accuracy: 0.9419 - val_loss: 0.5178 - val_accuracy: 0.9747\n",
      "Epoch 8/50\n",
      "4524/4524 [==============================] - 0s 16us/step - loss: 0.7340 - accuracy: 0.9377 - val_loss: 0.4334 - val_accuracy: 0.9747\n",
      "Epoch 9/50\n",
      "4524/4524 [==============================] - 0s 16us/step - loss: 0.6995 - accuracy: 0.9372 - val_loss: 0.4042 - val_accuracy: 0.9747\n",
      "Epoch 10/50\n",
      "4524/4524 [==============================] - 0s 15us/step - loss: 0.6116 - accuracy: 0.9427 - val_loss: 0.3470 - val_accuracy: 0.9747\n",
      "Epoch 11/50\n",
      "4524/4524 [==============================] - 0s 15us/step - loss: 0.4570 - accuracy: 0.9427 - val_loss: 0.3175 - val_accuracy: 0.9747\n",
      "Epoch 12/50\n",
      "4524/4524 [==============================] - 0s 15us/step - loss: 0.4186 - accuracy: 0.9436 - val_loss: 0.2630 - val_accuracy: 0.9747\n",
      "Epoch 13/50\n",
      "4524/4524 [==============================] - 0s 15us/step - loss: 0.3725 - accuracy: 0.9485 - val_loss: 0.2112 - val_accuracy: 0.9747\n",
      "Epoch 14/50\n",
      "4524/4524 [==============================] - 0s 15us/step - loss: 0.2991 - accuracy: 0.9485 - val_loss: 0.1806 - val_accuracy: 0.9747\n",
      "Epoch 15/50\n",
      "4524/4524 [==============================] - 0s 14us/step - loss: 0.2577 - accuracy: 0.9534 - val_loss: 0.1582 - val_accuracy: 0.9747\n",
      "Epoch 16/50\n",
      "4524/4524 [==============================] - 0s 16us/step - loss: 0.2462 - accuracy: 0.9553 - val_loss: 0.1452 - val_accuracy: 0.9747\n",
      "Epoch 17/50\n",
      "4524/4524 [==============================] - 0s 16us/step - loss: 0.2085 - accuracy: 0.9587 - val_loss: 0.1387 - val_accuracy: 0.9747\n",
      "Epoch 18/50\n",
      "4524/4524 [==============================] - 0s 15us/step - loss: 0.1883 - accuracy: 0.9642 - val_loss: 0.1396 - val_accuracy: 0.9747\n",
      "Epoch 19/50\n",
      "4524/4524 [==============================] - 0s 15us/step - loss: 0.1859 - accuracy: 0.9646 - val_loss: 0.1311 - val_accuracy: 0.9747\n",
      "Epoch 20/50\n",
      "4524/4524 [==============================] - 0s 15us/step - loss: 0.1773 - accuracy: 0.9651 - val_loss: 0.1318 - val_accuracy: 0.9747\n",
      "Epoch 21/50\n",
      "4524/4524 [==============================] - 0s 21us/step - loss: 0.1722 - accuracy: 0.9662 - val_loss: 0.1310 - val_accuracy: 0.9747\n",
      "Epoch 22/50\n",
      "4524/4524 [==============================] - 0s 16us/step - loss: 0.1681 - accuracy: 0.9657 - val_loss: 0.1280 - val_accuracy: 0.9747\n",
      "Epoch 23/50\n",
      "4524/4524 [==============================] - 0s 15us/step - loss: 0.1666 - accuracy: 0.9664 - val_loss: 0.1269 - val_accuracy: 0.9747\n",
      "Epoch 24/50\n",
      "4524/4524 [==============================] - 0s 12us/step - loss: 0.1619 - accuracy: 0.9664 - val_loss: 0.1252 - val_accuracy: 0.9747\n",
      "Epoch 25/50\n",
      "4524/4524 [==============================] - 0s 18us/step - loss: 0.1596 - accuracy: 0.9666 - val_loss: 0.1240 - val_accuracy: 0.9747\n",
      "Epoch 26/50\n",
      "4524/4524 [==============================] - 0s 14us/step - loss: 0.1631 - accuracy: 0.9668 - val_loss: 0.1242 - val_accuracy: 0.9747\n",
      "Epoch 27/50\n",
      "4524/4524 [==============================] - 0s 15us/step - loss: 0.1597 - accuracy: 0.9668 - val_loss: 0.1236 - val_accuracy: 0.9747\n",
      "Epoch 28/50\n",
      "4524/4524 [==============================] - 0s 16us/step - loss: 0.1611 - accuracy: 0.9671 - val_loss: 0.1224 - val_accuracy: 0.9747\n",
      "Epoch 29/50\n",
      "4524/4524 [==============================] - 0s 15us/step - loss: 0.1596 - accuracy: 0.9668 - val_loss: 0.1224 - val_accuracy: 0.9747\n",
      "Epoch 30/50\n",
      "4524/4524 [==============================] - 0s 15us/step - loss: 0.1556 - accuracy: 0.9673 - val_loss: 0.1213 - val_accuracy: 0.9747\n",
      "Epoch 31/50\n",
      "4524/4524 [==============================] - 0s 16us/step - loss: 0.1549 - accuracy: 0.9671 - val_loss: 0.1204 - val_accuracy: 0.9747\n",
      "Epoch 32/50\n",
      "4524/4524 [==============================] - 0s 14us/step - loss: 0.1572 - accuracy: 0.9673 - val_loss: 0.1219 - val_accuracy: 0.9747\n",
      "Epoch 33/50\n",
      "4524/4524 [==============================] - 0s 17us/step - loss: 0.1576 - accuracy: 0.9671 - val_loss: 0.1202 - val_accuracy: 0.9747\n",
      "Epoch 34/50\n",
      "4524/4524 [==============================] - 0s 12us/step - loss: 0.1535 - accuracy: 0.9671 - val_loss: 0.1193 - val_accuracy: 0.9747\n",
      "Epoch 35/50\n",
      "4524/4524 [==============================] - 0s 18us/step - loss: 0.1554 - accuracy: 0.9671 - val_loss: 0.1189 - val_accuracy: 0.9747\n",
      "Epoch 36/50\n",
      "4524/4524 [==============================] - 0s 15us/step - loss: 0.1521 - accuracy: 0.9671 - val_loss: 0.1193 - val_accuracy: 0.9747\n",
      "Epoch 37/50\n",
      "4524/4524 [==============================] - 0s 15us/step - loss: 0.1503 - accuracy: 0.9668 - val_loss: 0.1191 - val_accuracy: 0.9747\n",
      "Epoch 38/50\n",
      "4524/4524 [==============================] - 0s 16us/step - loss: 0.1531 - accuracy: 0.9671 - val_loss: 0.1195 - val_accuracy: 0.9747\n",
      "Epoch 39/50\n",
      "4524/4524 [==============================] - 0s 16us/step - loss: 0.1484 - accuracy: 0.9673 - val_loss: 0.1189 - val_accuracy: 0.9747\n",
      "Epoch 40/50\n",
      "4524/4524 [==============================] - 0s 17us/step - loss: 0.1509 - accuracy: 0.9673 - val_loss: 0.1203 - val_accuracy: 0.9747\n",
      "Epoch 41/50\n",
      "4524/4524 [==============================] - 0s 15us/step - loss: 0.1496 - accuracy: 0.9671 - val_loss: 0.1191 - val_accuracy: 0.9747\n",
      "Epoch 42/50\n",
      "4524/4524 [==============================] - 0s 15us/step - loss: 0.1484 - accuracy: 0.9671 - val_loss: 0.1190 - val_accuracy: 0.9747\n",
      "Epoch 43/50\n",
      "4524/4524 [==============================] - 0s 15us/step - loss: 0.1457 - accuracy: 0.9673 - val_loss: 0.1206 - val_accuracy: 0.9747\n",
      "Epoch 44/50\n",
      "4524/4524 [==============================] - 0s 16us/step - loss: 0.1492 - accuracy: 0.9673 - val_loss: 0.1179 - val_accuracy: 0.9747\n",
      "Epoch 45/50\n",
      "4524/4524 [==============================] - 0s 16us/step - loss: 0.1484 - accuracy: 0.9673 - val_loss: 0.1185 - val_accuracy: 0.9747\n",
      "Epoch 46/50\n",
      "4524/4524 [==============================] - 0s 16us/step - loss: 0.1459 - accuracy: 0.9673 - val_loss: 0.1175 - val_accuracy: 0.9747\n",
      "Epoch 47/50\n",
      "4524/4524 [==============================] - 0s 16us/step - loss: 0.1485 - accuracy: 0.9673 - val_loss: 0.1186 - val_accuracy: 0.9747\n",
      "Epoch 48/50\n",
      "4524/4524 [==============================] - 0s 16us/step - loss: 0.1450 - accuracy: 0.9673 - val_loss: 0.1160 - val_accuracy: 0.9747\n",
      "Epoch 49/50\n",
      "4524/4524 [==============================] - 0s 15us/step - loss: 0.1465 - accuracy: 0.9673 - val_loss: 0.1180 - val_accuracy: 0.9747\n",
      "Epoch 50/50\n",
      "4524/4524 [==============================] - 0s 15us/step - loss: 0.1486 - accuracy: 0.9673 - val_loss: 0.1163 - val_accuracy: 0.9747\n",
      "1939/1939 [==============================] - 0s 11us/step\n",
      "Accuracy =  97.47292399406433 %\n"
     ]
    },
    {
     "data": {
      "image/png": "[encoded data removed]",
      "text/plain": [
       "<Figure size 432x288 with 1 Axes>"
      ]
     },
     "metadata": {
      "needs_background": "light"
     },
     "output_type": "display_data"
    },
    {
     "data": {
      "image/png": "[encoded data removed]",
      "text/plain": [
       "<Figure size 432x288 with 1 Axes>"
      ]
     },
     "metadata": {
      "needs_background": "light"
     },
     "output_type": "display_data"
    }
   ],
   "source": [
    "import matplotlib.pyplot as plt\n",
    "\n",
    "history = model.fit(X_train, Y_train ,verbose=1, epochs=50, batch_size=64,\n",
    "                    validation_data=(X_test, Y_test))\n",
    "\n",
    "_, acc = model.evaluate(X_test, Y_test)\n",
    "print(\"Accuracy = \", (acc * 100.0), \"%\")\n",
    "\n",
    "\n",
    "#plot the training and validation accuracy and loss at each epoch\n",
    "loss = history.history['loss']\n",
    "val_loss = history.history['val_loss']\n",
    "epochs = range(1, len(loss) + 1)\n",
    "plt.plot(epochs, loss, 'y', label='Training loss')\n",
    "plt.plot(epochs, val_loss, 'r', label='Validation loss')\n",
    "plt.title('Training and validation loss')\n",
    "plt.xlabel('Epochs')\n",
    "plt.ylabel('Loss')\n",
    "plt.legend()\n",
    "plt.show()\n",
    "\n",
    "acc = history.history['accuracy']\n",
    "val_acc = history.history['val_accuracy']\n",
    "plt.plot(epochs, acc, 'y', label='Training acc')\n",
    "plt.plot(epochs, val_acc, 'r', label='Validation acc')\n",
    "plt.title('Training and validation accuracy')\n",
    "plt.xlabel('Epochs')\n",
    "plt.ylabel('Accuracy')\n",
    "plt.legend()\n",
    "plt.show()"
   ]
  },
  {
   "cell_type": "code",
   "execution_count": null,
   "metadata": {},
   "outputs": [],
   "source": []
  }
 ],
 "metadata": {
  "kernelspec": {
   "display_name": "Python 3 (ipykernel)",
   "language": "python",
   "name": "python3"
  },
  "language_info": {
   "codemirror_mode": {
    "name": "ipython",
    "version": 3
   },
   "file_extension": ".py",
   "mimetype": "text/x-python",
   "name": "python",
   "nbconvert_exporter": "python",
   "pygments_lexer": "ipython3",
   "version": "3.7.3"
  }
 },
 "nbformat": 4,
 "nbformat_minor": 4
}
