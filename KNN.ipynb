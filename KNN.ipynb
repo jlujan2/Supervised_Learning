{
 "cells": [
  {
   "cell_type": "code",
   "execution_count": 19,
   "metadata": {},
   "outputs": [],
   "source": [
    "import pandas as pd\n",
    "import numpy as np\n",
    "\n",
    "from sklearn.preprocessing import LabelEncoder\n",
    "from sklearn.model_selection import train_test_split\n",
    "from sklearn.preprocessing import StandardScaler\n",
    "from sklearn.neighbors import KNeighborsClassifier\n",
    "from sklearn.metrics import confusion_matrix\n",
    "from sklearn.metrics import f1_score\n",
    "from sklearn.metrics import accuracy_score\n",
    "from sklearn import metrics\n",
    "from sklearn import preprocessing\n",
    "import time"
   ]
  },
  {
   "cell_type": "code",
   "execution_count": 20,
   "metadata": {},
   "outputs": [
    {
     "data": {
      "text/html": [
       "<div>\n",
       "<style scoped>\n",
       "    .dataframe tbody tr th:only-of-type {\n",
       "        vertical-align: middle;\n",
       "    }\n",
       "\n",
       "    .dataframe tbody tr th {\n",
       "        vertical-align: top;\n",
       "    }\n",
       "\n",
       "    .dataframe thead th {\n",
       "        text-align: right;\n",
       "    }\n",
       "</style>\n",
       "<table border=\"1\" class=\"dataframe\">\n",
       "  <thead>\n",
       "    <tr style=\"text-align: right;\">\n",
       "      <th></th>\n",
       "      <th>type</th>\n",
       "      <th>fixed acidity</th>\n",
       "      <th>volatile acidity</th>\n",
       "      <th>citric acid</th>\n",
       "      <th>residual sugar</th>\n",
       "      <th>chlorides</th>\n",
       "      <th>free sulfur dioxide</th>\n",
       "      <th>total sulfur dioxide</th>\n",
       "      <th>density</th>\n",
       "      <th>pH</th>\n",
       "      <th>sulphates</th>\n",
       "      <th>alcohol</th>\n",
       "      <th>quality</th>\n",
       "    </tr>\n",
       "  </thead>\n",
       "  <tbody>\n",
       "    <tr>\n",
       "      <th>0</th>\n",
       "      <td>white</td>\n",
       "      <td>7.0</td>\n",
       "      <td>0.27</td>\n",
       "      <td>0.36</td>\n",
       "      <td>20.7</td>\n",
       "      <td>0.045</td>\n",
       "      <td>45.0</td>\n",
       "      <td>170.0</td>\n",
       "      <td>1.0010</td>\n",
       "      <td>3.00</td>\n",
       "      <td>0.45</td>\n",
       "      <td>8.8</td>\n",
       "      <td>6</td>\n",
       "    </tr>\n",
       "    <tr>\n",
       "      <th>1</th>\n",
       "      <td>white</td>\n",
       "      <td>6.3</td>\n",
       "      <td>0.30</td>\n",
       "      <td>0.34</td>\n",
       "      <td>1.6</td>\n",
       "      <td>0.049</td>\n",
       "      <td>14.0</td>\n",
       "      <td>132.0</td>\n",
       "      <td>0.9940</td>\n",
       "      <td>3.30</td>\n",
       "      <td>0.49</td>\n",
       "      <td>9.5</td>\n",
       "      <td>6</td>\n",
       "    </tr>\n",
       "    <tr>\n",
       "      <th>2</th>\n",
       "      <td>white</td>\n",
       "      <td>8.1</td>\n",
       "      <td>0.28</td>\n",
       "      <td>0.40</td>\n",
       "      <td>6.9</td>\n",
       "      <td>0.050</td>\n",
       "      <td>30.0</td>\n",
       "      <td>97.0</td>\n",
       "      <td>0.9951</td>\n",
       "      <td>3.26</td>\n",
       "      <td>0.44</td>\n",
       "      <td>10.1</td>\n",
       "      <td>6</td>\n",
       "    </tr>\n",
       "    <tr>\n",
       "      <th>3</th>\n",
       "      <td>white</td>\n",
       "      <td>7.2</td>\n",
       "      <td>0.23</td>\n",
       "      <td>0.32</td>\n",
       "      <td>8.5</td>\n",
       "      <td>0.058</td>\n",
       "      <td>47.0</td>\n",
       "      <td>186.0</td>\n",
       "      <td>0.9956</td>\n",
       "      <td>3.19</td>\n",
       "      <td>0.40</td>\n",
       "      <td>9.9</td>\n",
       "      <td>6</td>\n",
       "    </tr>\n",
       "    <tr>\n",
       "      <th>4</th>\n",
       "      <td>white</td>\n",
       "      <td>7.2</td>\n",
       "      <td>0.23</td>\n",
       "      <td>0.32</td>\n",
       "      <td>8.5</td>\n",
       "      <td>0.058</td>\n",
       "      <td>47.0</td>\n",
       "      <td>186.0</td>\n",
       "      <td>0.9956</td>\n",
       "      <td>3.19</td>\n",
       "      <td>0.40</td>\n",
       "      <td>9.9</td>\n",
       "      <td>6</td>\n",
       "    </tr>\n",
       "  </tbody>\n",
       "</table>\n",
       "</div>"
      ],
      "text/plain": [
       "    type  fixed acidity  volatile acidity  citric acid  residual sugar  \\\n",
       "0  white            7.0              0.27         0.36            20.7   \n",
       "1  white            6.3              0.30         0.34             1.6   \n",
       "2  white            8.1              0.28         0.40             6.9   \n",
       "3  white            7.2              0.23         0.32             8.5   \n",
       "4  white            7.2              0.23         0.32             8.5   \n",
       "\n",
       "   chlorides  free sulfur dioxide  total sulfur dioxide  density    pH  \\\n",
       "0      0.045                 45.0                 170.0   1.0010  3.00   \n",
       "1      0.049                 14.0                 132.0   0.9940  3.30   \n",
       "2      0.050                 30.0                  97.0   0.9951  3.26   \n",
       "3      0.058                 47.0                 186.0   0.9956  3.19   \n",
       "4      0.058                 47.0                 186.0   0.9956  3.19   \n",
       "\n",
       "   sulphates  alcohol  quality  \n",
       "0       0.45      8.8        6  \n",
       "1       0.49      9.5        6  \n",
       "2       0.44     10.1        6  \n",
       "3       0.40      9.9        6  \n",
       "4       0.40      9.9        6  "
      ]
     },
     "execution_count": 20,
     "metadata": {},
     "output_type": "execute_result"
    }
   ],
   "source": [
    "data = pd.read_csv('C:/Users/Juan Carlos/Downloads/winequalityN.csv', sep=',', header=0)\n",
    "data.head()"
   ]
  },
  {
   "cell_type": "code",
   "execution_count": 21,
   "metadata": {},
   "outputs": [
    {
     "name": "stdout",
     "output_type": "stream",
     "text": [
      "Dataset:: \n"
     ]
    }
   ],
   "source": [
    "print(\"Dataset:: \")\n",
    "data['great_wine'] = np.where(data['quality']>=8,1,0)\n",
    "data = data.drop('quality', axis='columns')\n",
    "\n",
    "le_type = LabelEncoder()\n",
    "\n",
    "data = data.dropna()\n",
    "data['type'] = le_type.fit_transform(data['type'])\n",
    "\n",
    "Label = preprocessing.LabelEncoder()\n",
    "\n",
    "X = data.values[: , 0:11]\n",
    "Y = data.values[: ,12]\n",
    "\n",
    "X_train, X_test, Y_train, Y_test =train_test_split(X, Y, test_size=0.3)"
   ]
  },
  {
   "cell_type": "code",
   "execution_count": 22,
   "metadata": {},
   "outputs": [],
   "source": [
    "sc_X = StandardScaler()\n",
    "X_train = sc_X.fit_transform(X_train)\n",
    "X_test = sc_X.transform(X_test)"
   ]
  },
  {
   "cell_type": "code",
   "execution_count": 23,
   "metadata": {},
   "outputs": [],
   "source": [
    "start = time.time()\n",
    "classifier_10 = KNeighborsClassifier(n_neighbors=10, p=2, metric='euclidean')\n",
    "classifier_10.fit(X_train, Y_train)\n",
    "end = time.time()"
   ]
  },
  {
   "cell_type": "code",
   "execution_count": 24,
   "metadata": {},
   "outputs": [],
   "source": [
    "y_pred = classifier_10.predict(X_test)"
   ]
  },
  {
   "cell_type": "code",
   "execution_count": 25,
   "metadata": {},
   "outputs": [
    {
     "name": "stdout",
     "output_type": "stream",
     "text": [
      "RunTime for 10 neighbors:  0.010983705520629883\n",
      "0.9721505930892212\n"
     ]
    }
   ],
   "source": [
    "cm = confusion_matrix(Y_test, y_pred)\n",
    "\n",
    "print(\"RunTime for 10 neighbors: \", end-start)\n",
    "print(accuracy_score(Y_test, y_pred))"
   ]
  },
  {
   "cell_type": "code",
   "execution_count": 26,
   "metadata": {},
   "outputs": [
    {
     "name": "stdout",
     "output_type": "stream",
     "text": [
      "RunTime for 50 neighbors:  0.19005131721496582\n",
      "0.9731820526044352\n"
     ]
    }
   ],
   "source": [
    "start = time.time()\n",
    "classifier_50 = KNeighborsClassifier(n_neighbors=50, p=2, metric='euclidean')\n",
    "classifier_50.fit(X_train, Y_train)\n",
    "y_pred = classifier_50.predict(X_test)\n",
    "end = time.time()\n",
    "\n",
    "cm = confusion_matrix(Y_test, y_pred)\n",
    "print(\"RunTime for 50 neighbors: \", end-start)\n",
    "print(accuracy_score(Y_test, y_pred))"
   ]
  },
  {
   "cell_type": "code",
   "execution_count": 27,
   "metadata": {},
   "outputs": [
    {
     "name": "stdout",
     "output_type": "stream",
     "text": [
      "RunTime for 100 neighbors:  0.22399520874023438\n",
      "0.9731820526044352\n"
     ]
    }
   ],
   "source": [
    "start = time.time()\n",
    "classifier_100 = KNeighborsClassifier(n_neighbors=100, p=2, metric='euclidean')\n",
    "classifier_100.fit(X_train, Y_train)\n",
    "y_pred = classifier_100.predict(X_test)\n",
    "end = time.time()\n",
    "cm = confusion_matrix(Y_test, y_pred)\n",
    "print(\"RunTime for 100 neighbors: \", end-start)\n",
    "print(accuracy_score(Y_test, y_pred))"
   ]
  },
  {
   "cell_type": "code",
   "execution_count": 29,
   "metadata": {},
   "outputs": [
    {
     "name": "stdout",
     "output_type": "stream",
     "text": [
      "Model: \"sequential_2\"\n",
      "_________________________________________________________________\n",
      "Layer (type)                 Output Shape              Param #   \n",
      "=================================================================\n",
      "dense_3 (Dense)              (None, 16)                192       \n",
      "_________________________________________________________________\n",
      "dropout_2 (Dropout)          (None, 16)                0         \n",
      "_________________________________________________________________\n",
      "dense_4 (Dense)              (None, 1)                 17        \n",
      "_________________________________________________________________\n",
      "activation_2 (Activation)    (None, 1)                 0         \n",
      "=================================================================\n",
      "Total params: 209\n",
      "Trainable params: 209\n",
      "Non-trainable params: 0\n",
      "_________________________________________________________________\n",
      "None\n"
     ]
    }
   ],
   "source": [
    "from keras.models import Sequential\n",
    "from keras.layers import Dense, Activation, Dropout\n",
    "\n",
    "model = Sequential()\n",
    "model.add(Dense(16, input_dim=11, activation='relu')) \n",
    "model.add(Dropout(0.2))\n",
    "model.add(Dense(1)) \n",
    "model.add(Activation('sigmoid'))  \n",
    "model.compile(loss='binary_crossentropy',\n",
    "              optimizer='adam',             #also try adam\n",
    "              metrics=['accuracy'])\n",
    "\n",
    "#model.compile(loss='mean_squared_error', optimizer='adam')\n",
    "print(model.summary())"
   ]
  },
  {
   "cell_type": "code",
   "execution_count": 30,
   "metadata": {},
   "outputs": [
    {
     "name": "stderr",
     "output_type": "stream",
     "text": [
      "\n",
      "Bad key text.latex.preview in file C:\\Users\\Juan Carlos\\Anaconda3\\lib\\site-packages\\matplotlib\\mpl-data\\stylelib\\_classic_test.mplstyle, line 123 ('text.latex.preview : False')\n",
      "You probably need to get an updated matplotlibrc file from\n",
      "https://github.com/matplotlib/matplotlib/blob/v3.5.0/matplotlibrc.template\n",
      "or from the matplotlib source distribution\n",
      "\n",
      "Bad key mathtext.fallback_to_cm in file C:\\Users\\Juan Carlos\\Anaconda3\\lib\\site-packages\\matplotlib\\mpl-data\\stylelib\\_classic_test.mplstyle, line 155 ('mathtext.fallback_to_cm : True  # When True, use symbols from the Computer Modern')\n",
      "You probably need to get an updated matplotlibrc file from\n",
      "https://github.com/matplotlib/matplotlib/blob/v3.5.0/matplotlibrc.template\n",
      "or from the matplotlib source distribution\n",
      "\n",
      "Bad key savefig.jpeg_quality in file C:\\Users\\Juan Carlos\\Anaconda3\\lib\\site-packages\\matplotlib\\mpl-data\\stylelib\\_classic_test.mplstyle, line 418 ('savefig.jpeg_quality: 95       # when a jpeg is saved, the default quality parameter.')\n",
      "You probably need to get an updated matplotlibrc file from\n",
      "https://github.com/matplotlib/matplotlib/blob/v3.5.0/matplotlibrc.template\n",
      "or from the matplotlib source distribution\n",
      "\n",
      "Bad key keymap.all_axes in file C:\\Users\\Juan Carlos\\Anaconda3\\lib\\site-packages\\matplotlib\\mpl-data\\stylelib\\_classic_test.mplstyle, line 466 ('keymap.all_axes : a                 # enable all axes')\n",
      "You probably need to get an updated matplotlibrc file from\n",
      "https://github.com/matplotlib/matplotlib/blob/v3.5.0/matplotlibrc.template\n",
      "or from the matplotlib source distribution\n",
      "\n",
      "Bad key animation.avconv_path in file C:\\Users\\Juan Carlos\\Anaconda3\\lib\\site-packages\\matplotlib\\mpl-data\\stylelib\\_classic_test.mplstyle, line 477 ('animation.avconv_path: avconv     # Path to avconv binary. Without full path')\n",
      "You probably need to get an updated matplotlibrc file from\n",
      "https://github.com/matplotlib/matplotlib/blob/v3.5.0/matplotlibrc.template\n",
      "or from the matplotlib source distribution\n",
      "\n",
      "Bad key animation.avconv_args in file C:\\Users\\Juan Carlos\\Anaconda3\\lib\\site-packages\\matplotlib\\mpl-data\\stylelib\\_classic_test.mplstyle, line 479 ('animation.avconv_args:            # Additional arguments to pass to avconv')\n",
      "You probably need to get an updated matplotlibrc file from\n",
      "https://github.com/matplotlib/matplotlib/blob/v3.5.0/matplotlibrc.template\n",
      "or from the matplotlib source distribution\n"
     ]
    },
    {
     "name": "stdout",
     "output_type": "stream",
     "text": [
      "WARNING:tensorflow:From C:\\Users\\Juan Carlos\\Anaconda3\\lib\\site-packages\\keras\\backend\\tensorflow_backend.py:422: The name tf.global_variables is deprecated. Please use tf.compat.v1.global_variables instead.\n",
      "\n",
      "Train on 4524 samples, validate on 1939 samples\n",
      "Epoch 1/50\n",
      "4524/4524 [==============================] - 0s 52us/step - loss: 0.7214 - accuracy: 0.5851 - val_loss: 0.5028 - val_accuracy: 0.8247\n",
      "Epoch 2/50\n",
      "4524/4524 [==============================] - 0s 17us/step - loss: 0.4004 - accuracy: 0.8736 - val_loss: 0.3005 - val_accuracy: 0.9495\n",
      "Epoch 3/50\n",
      "4524/4524 [==============================] - 0s 15us/step - loss: 0.2800 - accuracy: 0.9425 - val_loss: 0.2137 - val_accuracy: 0.9701\n",
      "Epoch 4/50\n",
      "4524/4524 [==============================] - 0s 15us/step - loss: 0.2236 - accuracy: 0.9567 - val_loss: 0.1747 - val_accuracy: 0.9727\n",
      "Epoch 5/50\n",
      "4524/4524 [==============================] - 0s 16us/step - loss: 0.1963 - accuracy: 0.9629 - val_loss: 0.1552 - val_accuracy: 0.9732\n",
      "Epoch 6/50\n",
      "4524/4524 [==============================] - 0s 17us/step - loss: 0.1760 - accuracy: 0.9664 - val_loss: 0.1434 - val_accuracy: 0.9732\n",
      "Epoch 7/50\n",
      "4524/4524 [==============================] - 0s 17us/step - loss: 0.1741 - accuracy: 0.9653 - val_loss: 0.1369 - val_accuracy: 0.9732\n",
      "Epoch 8/50\n",
      "4524/4524 [==============================] - 0s 17us/step - loss: 0.1665 - accuracy: 0.9657 - val_loss: 0.1326 - val_accuracy: 0.9732\n",
      "Epoch 9/50\n",
      "4524/4524 [==============================] - 0s 15us/step - loss: 0.1653 - accuracy: 0.9664 - val_loss: 0.1295 - val_accuracy: 0.9732\n",
      "Epoch 10/50\n",
      "4524/4524 [==============================] - 0s 15us/step - loss: 0.1581 - accuracy: 0.9666 - val_loss: 0.1271 - val_accuracy: 0.9732\n",
      "Epoch 11/50\n",
      "4524/4524 [==============================] - 0s 15us/step - loss: 0.1581 - accuracy: 0.9675 - val_loss: 0.1252 - val_accuracy: 0.9732\n",
      "Epoch 12/50\n",
      "4524/4524 [==============================] - 0s 15us/step - loss: 0.1560 - accuracy: 0.9671 - val_loss: 0.1233 - val_accuracy: 0.9732\n",
      "Epoch 13/50\n",
      "4524/4524 [==============================] - 0s 15us/step - loss: 0.1579 - accuracy: 0.9677 - val_loss: 0.1218 - val_accuracy: 0.9732\n",
      "Epoch 14/50\n",
      "4524/4524 [==============================] - 0s 15us/step - loss: 0.1524 - accuracy: 0.9675 - val_loss: 0.1206 - val_accuracy: 0.9732\n",
      "Epoch 15/50\n",
      "4524/4524 [==============================] - 0s 16us/step - loss: 0.1531 - accuracy: 0.9671 - val_loss: 0.1195 - val_accuracy: 0.9732\n",
      "Epoch 16/50\n",
      "4524/4524 [==============================] - 0s 17us/step - loss: 0.1497 - accuracy: 0.9677 - val_loss: 0.1185 - val_accuracy: 0.9732\n",
      "Epoch 17/50\n",
      "4524/4524 [==============================] - 0s 18us/step - loss: 0.1469 - accuracy: 0.9675 - val_loss: 0.1175 - val_accuracy: 0.9732\n",
      "Epoch 18/50\n",
      "4524/4524 [==============================] - 0s 18us/step - loss: 0.1520 - accuracy: 0.9677 - val_loss: 0.1168 - val_accuracy: 0.9732\n",
      "Epoch 19/50\n",
      "4524/4524 [==============================] - 0s 17us/step - loss: 0.1470 - accuracy: 0.9677 - val_loss: 0.1161 - val_accuracy: 0.9732\n",
      "Epoch 20/50\n",
      "4524/4524 [==============================] - 0s 16us/step - loss: 0.1424 - accuracy: 0.9682 - val_loss: 0.1154 - val_accuracy: 0.9732\n",
      "Epoch 21/50\n",
      "4524/4524 [==============================] - 0s 16us/step - loss: 0.1463 - accuracy: 0.9679 - val_loss: 0.1148 - val_accuracy: 0.9732\n",
      "Epoch 22/50\n",
      "4524/4524 [==============================] - 0s 17us/step - loss: 0.1426 - accuracy: 0.9677 - val_loss: 0.1143 - val_accuracy: 0.9732\n",
      "Epoch 23/50\n",
      "4524/4524 [==============================] - 0s 20us/step - loss: 0.1435 - accuracy: 0.9673 - val_loss: 0.1136 - val_accuracy: 0.9732\n",
      "Epoch 24/50\n",
      "4524/4524 [==============================] - 0s 16us/step - loss: 0.1406 - accuracy: 0.9679 - val_loss: 0.1132 - val_accuracy: 0.9732\n",
      "Epoch 25/50\n",
      "4524/4524 [==============================] - 0s 16us/step - loss: 0.1415 - accuracy: 0.9679 - val_loss: 0.1128 - val_accuracy: 0.9732\n",
      "Epoch 26/50\n",
      "4524/4524 [==============================] - 0s 16us/step - loss: 0.1393 - accuracy: 0.9682 - val_loss: 0.1124 - val_accuracy: 0.9732\n",
      "Epoch 27/50\n",
      "4524/4524 [==============================] - 0s 16us/step - loss: 0.1355 - accuracy: 0.9677 - val_loss: 0.1120 - val_accuracy: 0.9732\n",
      "Epoch 28/50\n",
      "4524/4524 [==============================] - 0s 16us/step - loss: 0.1383 - accuracy: 0.9673 - val_loss: 0.1116 - val_accuracy: 0.9732\n",
      "Epoch 29/50\n",
      "4524/4524 [==============================] - 0s 17us/step - loss: 0.1341 - accuracy: 0.9679 - val_loss: 0.1113 - val_accuracy: 0.9732\n",
      "Epoch 30/50\n",
      "4524/4524 [==============================] - 0s 17us/step - loss: 0.1371 - accuracy: 0.9679 - val_loss: 0.1111 - val_accuracy: 0.9732\n",
      "Epoch 31/50\n",
      "4524/4524 [==============================] - 0s 17us/step - loss: 0.1339 - accuracy: 0.9677 - val_loss: 0.1107 - val_accuracy: 0.9732\n",
      "Epoch 32/50\n",
      "4524/4524 [==============================] - 0s 17us/step - loss: 0.1353 - accuracy: 0.9679 - val_loss: 0.1104 - val_accuracy: 0.9732\n",
      "Epoch 33/50\n",
      "4524/4524 [==============================] - 0s 17us/step - loss: 0.1322 - accuracy: 0.9675 - val_loss: 0.1101 - val_accuracy: 0.9732\n",
      "Epoch 34/50\n",
      "4524/4524 [==============================] - 0s 17us/step - loss: 0.1362 - accuracy: 0.9679 - val_loss: 0.1102 - val_accuracy: 0.9727\n",
      "Epoch 35/50\n",
      "4524/4524 [==============================] - 0s 16us/step - loss: 0.1320 - accuracy: 0.9679 - val_loss: 0.1098 - val_accuracy: 0.9732\n",
      "Epoch 36/50\n",
      "4524/4524 [==============================] - 0s 17us/step - loss: 0.1349 - accuracy: 0.9677 - val_loss: 0.1096 - val_accuracy: 0.9727\n",
      "Epoch 37/50\n",
      "4524/4524 [==============================] - 0s 18us/step - loss: 0.1335 - accuracy: 0.9677 - val_loss: 0.1095 - val_accuracy: 0.9727\n",
      "Epoch 38/50\n",
      "4524/4524 [==============================] - 0s 17us/step - loss: 0.1295 - accuracy: 0.9677 - val_loss: 0.1091 - val_accuracy: 0.9727\n",
      "Epoch 39/50\n",
      "4524/4524 [==============================] - 0s 17us/step - loss: 0.1320 - accuracy: 0.9677 - val_loss: 0.1089 - val_accuracy: 0.9727\n",
      "Epoch 40/50\n",
      "4524/4524 [==============================] - 0s 16us/step - loss: 0.1325 - accuracy: 0.9677 - val_loss: 0.1087 - val_accuracy: 0.9727\n",
      "Epoch 41/50\n",
      "4524/4524 [==============================] - 0s 17us/step - loss: 0.1281 - accuracy: 0.9677 - val_loss: 0.1087 - val_accuracy: 0.9727\n",
      "Epoch 42/50\n",
      "4524/4524 [==============================] - 0s 15us/step - loss: 0.1313 - accuracy: 0.9679 - val_loss: 0.1082 - val_accuracy: 0.9727\n",
      "Epoch 43/50\n",
      "4524/4524 [==============================] - 0s 17us/step - loss: 0.1307 - accuracy: 0.9679 - val_loss: 0.1079 - val_accuracy: 0.9727\n",
      "Epoch 44/50\n",
      "4524/4524 [==============================] - 0s 17us/step - loss: 0.1307 - accuracy: 0.9675 - val_loss: 0.1078 - val_accuracy: 0.9727\n",
      "Epoch 45/50\n",
      "4524/4524 [==============================] - 0s 15us/step - loss: 0.1291 - accuracy: 0.9679 - val_loss: 0.1074 - val_accuracy: 0.9727\n",
      "Epoch 46/50\n",
      "4524/4524 [==============================] - 0s 15us/step - loss: 0.1264 - accuracy: 0.9677 - val_loss: 0.1075 - val_accuracy: 0.9727\n",
      "Epoch 47/50\n",
      "4524/4524 [==============================] - 0s 15us/step - loss: 0.1293 - accuracy: 0.9679 - val_loss: 0.1073 - val_accuracy: 0.9727\n",
      "Epoch 48/50\n",
      "4524/4524 [==============================] - 0s 15us/step - loss: 0.1304 - accuracy: 0.9679 - val_loss: 0.1071 - val_accuracy: 0.9727\n",
      "Epoch 49/50\n",
      "4524/4524 [==============================] - 0s 16us/step - loss: 0.1267 - accuracy: 0.9679 - val_loss: 0.1069 - val_accuracy: 0.9727\n",
      "Epoch 50/50\n",
      "4524/4524 [==============================] - 0s 17us/step - loss: 0.1267 - accuracy: 0.9675 - val_loss: 0.1067 - val_accuracy: 0.9727\n",
      "1939/1939 [==============================] - 0s 11us/step\n",
      "Accuracy =  97.2666323184967 %\n"
     ]
    },
    {
     "data": {
      "image/png": "[encoded data removed]",
      "text/plain": [
       "<Figure size 432x288 with 1 Axes>"
      ]
     },
     "metadata": {
      "needs_background": "light"
     },
     "output_type": "display_data"
    },
    {
     "data": {
      "image/png": "[encoded data removed]",
      "text/plain": [
       "<Figure size 432x288 with 1 Axes>"
      ]
     },
     "metadata": {
      "needs_background": "light"
     },
     "output_type": "display_data"
    }
   ],
   "source": [
    "import matplotlib.pyplot as plt\n",
    "\n",
    "history = model.fit(X_train, Y_train ,verbose=1, epochs=50, batch_size=64,\n",
    "                    validation_data=(X_test, Y_test))\n",
    "\n",
    "_, acc = model.evaluate(X_test, Y_test)\n",
    "print(\"Accuracy = \", (acc * 100.0), \"%\")\n",
    "\n",
    "\n",
    "#plot the training and validation accuracy and loss at each epoch\n",
    "loss = history.history['loss']\n",
    "val_loss = history.history['val_loss']\n",
    "epochs = range(1, len(loss) + 1)\n",
    "plt.plot(epochs, loss, 'y', label='Training loss')\n",
    "plt.plot(epochs, val_loss, 'r', label='Validation loss')\n",
    "plt.title('Training and validation loss')\n",
    "plt.xlabel('Epochs')\n",
    "plt.ylabel('Loss')\n",
    "plt.legend()\n",
    "plt.show()\n",
    "\n",
    "acc = history.history['accuracy']\n",
    "val_acc = history.history['val_accuracy']\n",
    "plt.plot(epochs, acc, 'y', label='Training acc')\n",
    "plt.plot(epochs, val_acc, 'r', label='Validation acc')\n",
    "plt.title('Training and validation accuracy')\n",
    "plt.xlabel('Epochs')\n",
    "plt.ylabel('Accuracy')\n",
    "plt.legend()\n",
    "plt.show()"
   ]
  },
  {
   "cell_type": "code",
   "execution_count": null,
   "metadata": {},
   "outputs": [],
   "source": []
  }
 ],
 "metadata": {
  "kernelspec": {
   "display_name": "Python 3 (ipykernel)",
   "language": "python",
   "name": "python3"
  },
  "language_info": {
   "codemirror_mode": {
    "name": "ipython",
    "version": 3
   },
   "file_extension": ".py",
   "mimetype": "text/x-python",
   "name": "python",
   "nbconvert_exporter": "python",
   "pygments_lexer": "ipython3",
   "version": "3.7.3"
  }
 },
 "nbformat": 4,
 "nbformat_minor": 4
}
